{
   "cells": [
      {
         "cell_type": "code",
         "execution_count": 87,
         "metadata": {},
         "outputs": [],
         "source": [
            "import pandas as pd\n",
            "from selenium import webdriver\n",
            "import time as t\n",
            "from bs4 import BeautifulSoup\n"
         ]
      },
      {
         "cell_type": "code",
         "execution_count": 88,
         "metadata": {},
         "outputs": [],
         "source": [
            "\n",
            "def import_ibv(url=\"https://sistemaswebb3-listados.b3.com.br/indexPage/day/IBOV?language=pt-br\"):\n",
            "    # definindo a url da b3\n",
            "    \n",
            "    # iniciando o webdriver, que deve estar com o driver na pasta do arquivo para funcionar, nesse caso será utilizado do Chrome\n",
            "    browser = webdriver.Chrome()\n",
            "\n",
            "    # Entrando na url informada\n",
            "    browser.get(url)\n",
            "\n",
            "    # Encontrando o elemento no html para filtrarmos os dados que precisamos\n",
            "    browser.find_element_by_id('segment').send_keys('Setor de Atuação')\n",
            "\n",
            "    # Aguardando 2 segundos para a página atualizar\n",
            "    t.sleep(2)\n",
            "\n",
            "    # Agora selecionando o o menu para podermos ver todas as ações disponíveis\n",
            "    browser.find_element_by_id('selectPage').send_keys('120')\n",
            "\n",
            "    # Aguardando 1 segundo para o página atualizar\n",
            "    t.sleep(1)\n",
            "\n",
            "    # IMportando o html inteiro para o Python na variável html\n",
            "    html = browser.page_source\n",
            "\n",
            "    # Fechando o navegador\n",
            "    browser.close()\n",
            "\n",
            "    # Usando o beatiful soup e convertendo o arquivo para podermos selecionar os dados que precisamos\n",
            "    bs = BeautifulSoup(html, 'html.parser')\n",
            "\n",
            "    # Criando as listas onde iremos armazenar os dados do html\n",
            "    setor, cod, acao, tipo, qtde_t, part, part_a = [], [], [], [], [], [], []\n",
            "\n",
            "    # Usando a função find_all para selecionarmos apenas 'td' que contém os dados que usaremos e armazenando eles na variável linhas\n",
            "    linhas = bs.find_all('td')\n",
            "\n",
            "    # Criando uma variável que será usada no while loop abaixo\n",
            "    i = 0\n",
            "\n",
            "    # While loop para podermos armazenar os dados em suas respectivas colunas, onde:\n",
            "    # temos 7 colunas então pegamos o primeiro elemento 0 e somando 1 até chegarmos ao último elemento para a coluna [i+6] = ao setimo elemento\n",
            "    # por fim somando 7 para pularmos para a próxima linhas e seguir a lógica\n",
            "    # o loop só irá para quando o número de linhas for maior do que o que os dados apresentados, para isso usados o lógica len(linhas) que nos entrega a quantia de dados\n",
            "    # e como i é somado de 7 a cada iteração o loop só irá para quando todos os dados forem indexidaodos nas suas devidas colunas\n",
            "    while i < (len(linhas)):\n",
            "        setor.append(linhas[i].text)\n",
            "        cod.append(linhas[i+1].text)\n",
            "        acao.append(linhas[i+2].text)\n",
            "        tipo.append(linhas[i+3].text)\n",
            "        qtde_t.append(linhas[i+4].text)\n",
            "        part.append(linhas[i+5].text)\n",
            "        part_a.append(linhas[i+6].text)\n",
            "        i += 7\n",
            "\n",
            "    # Criando um df para armazearmos os dados\n",
            "    df = pd.DataFrame({'Setor': setor[:-1],\n",
            "                       'Acao': cod[:-1],\n",
            "                       'Empresa': acao[:-1],\n",
            "                       'Qntd_teorica': qtde_t[:-1],\n",
            "                       'Part_%': part[:-1]})  # filtramos para eliminar as últimas linhas, pois a b3 entrega uma soma ao final que não queremos\n",
            "    # Separando os setores e subsetores em colunas\n",
            "    df['SubSetor'] = df['Setor'].apply(lambda s: s[s.rfind('/')+1:].strip())\n",
            "    df['Setor'] = df['Setor'].apply(lambda s: s[:s.rfind('/')])\n",
            "\n",
            "    # Convertendo os valores de string para int\n",
            "    df['Qntd_teorica'] = df['Qntd_teorica'].apply(lambda s: s.replace(\".\", \"\"))\n",
            "    df['Qntd_teorica'] = pd.to_numeric(df['Qntd_teorica'])\n",
            "    df['Part_%'] = df['Part_%'].apply(lambda s: s.replace(\",\", \"\"))\n",
            "    df['Part_%'] = pd.to_numeric(df['Part_%'])/1000\n",
            "    df.sort_values('Part_%', ascending=False, inplace=True)\n",
            "\n",
            "    # Criando uma colunas com a % acumulada\n",
            "    df['Part_%_acum'] = df['Part_%'].cumsum()\n",
            "\n",
            "    # Resetando o index\n",
            "    df.reset_index(drop=True, inplace=True)\n",
            "\n",
            "    # fim\n",
            "    return df\n"
         ]
      },
      {
         "cell_type": "code",
         "execution_count": null,
         "metadata": {},
         "outputs": [],
         "source": [
            "\n",
            "df = import_ibv()\n",
            "\n",
            "print(df)\n"
         ]
      },
      {
         "cell_type": "code",
         "execution_count": null,
         "metadata": {},
         "outputs": [],
         "source": [
            "df = df.to_csv('dados_dab3.csv')"
         ]
      },
      {
         "cell_type": "code",
         "execution_count": null,
         "metadata": {},
         "outputs": [],
         "source": [
            "df = pd.read_csv(\"dados_dab3_Car_do_dia.csv\", index_col=0)\n",
            "df.info()"
         ]
      },
      {
         "cell_type": "code",
         "execution_count": null,
         "metadata": {},
         "outputs": [],
         "source": [
            "def import_ibv2(url=\"https://sistemaswebb3-listados.b3.com.br/indexPage/theorical/IBOV?language=pt-br\"):\n",
            "    \n",
            "    browser = webdriver.Chrome()\n",
            "    browser.get(url)\n",
            "    t.sleep(2)\n",
            "    browser.find_element_by_id('selectPage').send_keys('120')\n",
            "    t.sleep(2)\n",
            "    html = browser.page_source\n",
            "    browser.close()\n",
            "    bs = BeautifulSoup(html, 'html.parser')\n",
            "    linhas = bs.find_all('td')\n",
            "    linhas = linhas\n",
            "    #print(len(linhas))\n",
            "    #print(linhas)\n",
            "    i = 0\n",
            "    lista_act = []\n",
            "    while i < (len(linhas)):\n",
            "        lista_act.append(linhas[i].text)\n",
            "        i += 1\n",
            "    codigo = []\n",
            "    j = 0\n",
            "    while j < (len(lista_act)-8):\n",
            "        codigo.append(lista_act[j])\n",
            "        j+=5\n",
            "    j=1\n",
            "    acao = []\n",
            "    while j < (len(lista_act)-5):\n",
            "        acao.append(lista_act[j])\n",
            "        j+=5\n",
            "    j=2\n",
            "    tipo = []\n",
            "    while j < (len(lista_act)-6):\n",
            "        tipo.append(lista_act[j])\n",
            "        j+=5\n",
            "    qtd_t = []\n",
            "    j=3\n",
            "    while j < (len(lista_act)-7):\n",
            "        qtd_t.append(lista_act[j])\n",
            "        j +=5\n",
            "    j=4\n",
            "    part_p = []\n",
            "    while j < (len(lista_act)-6):\n",
            "        part_p.append(lista_act[j])\n",
            "        j+=5 \n",
            "    df = pd.DataFrame({\n",
            "        'Codigo': codigo,\n",
            "        'Acao': acao,\n",
            "        'Tipo': tipo,\n",
            "        'Qtde_Teo': qtd_t,\n",
            "        'Part_%': part_p,\n",
            "    })\n",
            "    df['Qtde_Teo'] = df['Qtde_Teo'].map(lambda t: t.replace(\".\", \"\"))\n",
            "    df['Qtde_Teo'] = df['Qtde_Teo'].map(lambda qtd: float(qtd))\n",
            "    df['Part_%'] = df['Part_%'].map(lambda t: t.replace(\",\", \".\"))\n",
            "    df['Part_%'] = df['Part_%'].map(lambda t: float(t))\n",
            "\n",
            "    \n",
            "    return df\n"
         ]
      },
      {
         "cell_type": "code",
         "execution_count": null,
         "metadata": {},
         "outputs": [],
         "source": [
            "df2 = import_ibv2()"
         ]
      },
      {
         "cell_type": "code",
         "execution_count": null,
         "metadata": {},
         "outputs": [],
         "source": [
            "df2 = pd.read_csv(\"dados_dab3_jan_a_Abr.csv\", index_col=0)"
         ]
      },
      {
         "cell_type": "code",
         "execution_count": null,
         "metadata": {},
         "outputs": [],
         "source": [
            "df2.info()"
         ]
      },
      {
         "cell_type": "code",
         "execution_count": null,
         "metadata": {},
         "outputs": [],
         "source": [
            "df2[df2['Codigo'] == 'ABEV3']"
         ]
      },
      {
         "cell_type": "code",
         "execution_count": null,
         "metadata": {},
         "outputs": [],
         "source": [
            "df2['Qtde_Teo'] = df2['Qtde_Teo'].map(lambda t: t.replace(\".\", \"\"))\n",
            "df2['Qtde_Teo'] = df2['Qtde_Teo'].map(lambda qtd: float(qtd))"
         ]
      },
      {
         "cell_type": "code",
         "execution_count": null,
         "metadata": {},
         "outputs": [],
         "source": [
            "df2['Part_%'] = df2['Part_%'].map(lambda t: t.replace(\",\", \".\"))\n",
            "df2['Part_%'] = df2['Part_%'].map(lambda t: float(t))"
         ]
      },
      {
         "cell_type": "code",
         "execution_count": null,
         "metadata": {},
         "outputs": [],
         "source": [
            "df2['Codigo']"
         ]
      },
      {
         "cell_type": "code",
         "execution_count": null,
         "metadata": {},
         "outputs": [],
         "source": [
            "df2 = df2.to_csv(\"dados_dab3_jan_a_Abr.csv\")"
         ]
      },
      {
         "cell_type": "code",
         "execution_count": 89,
         "metadata": {},
         "outputs": [],
         "source": [
            "def import_ibv3(url=\"https://sistemaswebb3-listados.b3.com.br/indexPage/preview/IBOV?language=pt-br\"):\n",
            "\n",
            "    browser = webdriver.Chrome()\n",
            "    browser.get(url)\n",
            "    t.sleep(2)\n",
            "    browser.find_element_by_id('selectPage').send_keys('120')\n",
            "    t.sleep(2)\n",
            "    html = browser.page_source\n",
            "    browser.close()\n",
            "    bs = BeautifulSoup(html, 'html.parser')\n",
            "    linhas = bs.find_all('td')\n",
            "    linhas = linhas\n",
            "    #print(len(linhas))\n",
            "    #print(linhas)\n",
            "    i = 0\n",
            "    lista_act = []\n",
            "    while i < (len(linhas)):\n",
            "        lista_act.append(linhas[i].text)\n",
            "        i += 1\n",
            "    codigo = []\n",
            "    j = 0\n",
            "    while j < (len(lista_act)-8):\n",
            "        codigo.append(lista_act[j])\n",
            "        j += 5\n",
            "    j = 1\n",
            "    acao = []\n",
            "    while j < (len(lista_act)-5):\n",
            "        acao.append(lista_act[j])\n",
            "        j += 5\n",
            "    j = 2\n",
            "    tipo = []\n",
            "    while j < (len(lista_act)-6):\n",
            "        tipo.append(lista_act[j])\n",
            "        j += 5\n",
            "    qtd_t = []\n",
            "    j = 3\n",
            "    while j < (len(lista_act)-7):\n",
            "        qtd_t.append(lista_act[j])\n",
            "        j += 5\n",
            "    j = 4\n",
            "    part_p = []\n",
            "    while j < (len(lista_act)-6):\n",
            "        part_p.append(lista_act[j])\n",
            "        j += 5\n",
            "    df = pd.DataFrame({\n",
            "        'Codigo': codigo,\n",
            "        'Acao': acao,\n",
            "        'Tipo': tipo,\n",
            "        'Qtde_Teo': qtd_t,\n",
            "        'Part_%': part_p,\n",
            "    })\n",
            "    \n",
            "    df['Qtde_Teo'] = df['Qtde_Teo'].map(lambda t: t.replace(\".\", \"\"))\n",
            "    df['Qtde_Teo'] = df['Qtde_Teo'].map(lambda qtd: float(qtd))\n",
            "    df['Part_%'] = df['Part_%'].map(lambda t: t.replace(\",\", \".\"))\n",
            "    df['Part_%'] = df['Part_%'].map(lambda t: float(t))\n",
            "    \n",
            "    return df"
         ]
      },
      {
         "cell_type": "code",
         "execution_count": null,
         "metadata": {},
         "outputs": [],
         "source": [
            "df3 = import_ibv3()"
         ]
      },
      {
         "cell_type": "code",
         "execution_count": null,
         "metadata": {},
         "outputs": [],
         "source": [
            "df3"
         ]
      },
      {
         "cell_type": "code",
         "execution_count": 84,
         "metadata": {},
         "outputs": [],
         "source": [
            "df3 = df3.to_csv('dados_dab3_mai_a_Ago.csv')\n"
         ]
      },
      {
         "cell_type": "code",
         "execution_count": 85,
         "metadata": {},
         "outputs": [
            {
               "name": "stdout",
               "output_type": "stream",
               "text": [
                  "<class 'pandas.core.frame.DataFrame'>\n",
                  "Int64Index: 91 entries, 0 to 90\n",
                  "Data columns (total 7 columns):\n",
                  " #   Column        Non-Null Count  Dtype  \n",
                  "---  ------        --------------  -----  \n",
                  " 0   Setor         91 non-null     object \n",
                  " 1   Acao          91 non-null     object \n",
                  " 2   Empresa       91 non-null     object \n",
                  " 3   Qntd_teorica  91 non-null     int64  \n",
                  " 4   Part_%        91 non-null     float64\n",
                  " 5   SubSetor      91 non-null     object \n",
                  " 6   Part_%_acum   91 non-null     float64\n",
                  "dtypes: float64(2), int64(1), object(4)\n",
                  "memory usage: 5.7+ KB\n"
               ]
            }
         ],
         "source": [
            "df3 = pd.read_csv('dados_dab3_mai_a_Ago.csv', index_col=0)\n",
            "df3.info()"
         ]
      },
      {
         "cell_type": "code",
         "execution_count": 86,
         "metadata": {},
         "outputs": [
            {
               "ename": "KeyError",
               "evalue": "'Qtde_Teo'",
               "output_type": "error",
               "traceback": [
                  "\u001b[0;31m---------------------------------------------------------------------------\u001b[0m",
                  "\u001b[0;31mKeyError\u001b[0m                                  Traceback (most recent call last)",
                  "File \u001b[0;32m~/.local/lib/python3.8/site-packages/pandas/core/indexes/base.py:3621\u001b[0m, in \u001b[0;36mIndex.get_loc\u001b[0;34m(self, key, method, tolerance)\u001b[0m\n\u001b[1;32m   <a href='file:///home/renan/.local/lib/python3.8/site-packages/pandas/core/indexes/base.py?line=3619'>3620</a>\u001b[0m \u001b[39mtry\u001b[39;00m:\n\u001b[0;32m-> <a href='file:///home/renan/.local/lib/python3.8/site-packages/pandas/core/indexes/base.py?line=3620'>3621</a>\u001b[0m     \u001b[39mreturn\u001b[39;00m \u001b[39mself\u001b[39;49m\u001b[39m.\u001b[39;49m_engine\u001b[39m.\u001b[39;49mget_loc(casted_key)\n\u001b[1;32m   <a href='file:///home/renan/.local/lib/python3.8/site-packages/pandas/core/indexes/base.py?line=3621'>3622</a>\u001b[0m \u001b[39mexcept\u001b[39;00m \u001b[39mKeyError\u001b[39;00m \u001b[39mas\u001b[39;00m err:\n",
                  "File \u001b[0;32m~/.local/lib/python3.8/site-packages/pandas/_libs/index.pyx:136\u001b[0m, in \u001b[0;36mpandas._libs.index.IndexEngine.get_loc\u001b[0;34m()\u001b[0m\n",
                  "File \u001b[0;32m~/.local/lib/python3.8/site-packages/pandas/_libs/index.pyx:163\u001b[0m, in \u001b[0;36mpandas._libs.index.IndexEngine.get_loc\u001b[0;34m()\u001b[0m\n",
                  "File \u001b[0;32mpandas/_libs/hashtable_class_helper.pxi:5198\u001b[0m, in \u001b[0;36mpandas._libs.hashtable.PyObjectHashTable.get_item\u001b[0;34m()\u001b[0m\n",
                  "File \u001b[0;32mpandas/_libs/hashtable_class_helper.pxi:5206\u001b[0m, in \u001b[0;36mpandas._libs.hashtable.PyObjectHashTable.get_item\u001b[0;34m()\u001b[0m\n",
                  "\u001b[0;31mKeyError\u001b[0m: 'Qtde_Teo'",
                  "\nThe above exception was the direct cause of the following exception:\n",
                  "\u001b[0;31mKeyError\u001b[0m                                  Traceback (most recent call last)",
                  "\u001b[1;32m/home/renan/Area_de_Trabalho/Projeto_/Project_jhon/model_webScraping/webScraping.ipynb Cell 20'\u001b[0m in \u001b[0;36m<cell line: 1>\u001b[0;34m()\u001b[0m\n\u001b[0;32m----> <a href='vscode-notebook-cell:/home/renan/Area_de_Trabalho/Projeto_/Project_jhon/model_webScraping/webScraping.ipynb#ch0000025?line=0'>1</a>\u001b[0m df3[\u001b[39m'\u001b[39m\u001b[39mQtde_Teo\u001b[39m\u001b[39m'\u001b[39m] \u001b[39m=\u001b[39m df3[\u001b[39m'\u001b[39;49m\u001b[39mQtde_Teo\u001b[39;49m\u001b[39m'\u001b[39;49m]\u001b[39m.\u001b[39mmap(\u001b[39mlambda\u001b[39;00m t: t\u001b[39m.\u001b[39mreplace(\u001b[39m\"\u001b[39m\u001b[39m.\u001b[39m\u001b[39m\"\u001b[39m, \u001b[39m\"\u001b[39m\u001b[39m\"\u001b[39m))\n\u001b[1;32m      <a href='vscode-notebook-cell:/home/renan/Area_de_Trabalho/Projeto_/Project_jhon/model_webScraping/webScraping.ipynb#ch0000025?line=1'>2</a>\u001b[0m df3[\u001b[39m'\u001b[39m\u001b[39mQtde_Teo\u001b[39m\u001b[39m'\u001b[39m] \u001b[39m=\u001b[39m df3[\u001b[39m'\u001b[39m\u001b[39mQtde_Teo\u001b[39m\u001b[39m'\u001b[39m]\u001b[39m.\u001b[39mmap(\u001b[39mlambda\u001b[39;00m qtd: \u001b[39mfloat\u001b[39m(qtd))\n",
                  "File \u001b[0;32m~/.local/lib/python3.8/site-packages/pandas/core/frame.py:3505\u001b[0m, in \u001b[0;36mDataFrame.__getitem__\u001b[0;34m(self, key)\u001b[0m\n\u001b[1;32m   <a href='file:///home/renan/.local/lib/python3.8/site-packages/pandas/core/frame.py?line=3502'>3503</a>\u001b[0m \u001b[39mif\u001b[39;00m \u001b[39mself\u001b[39m\u001b[39m.\u001b[39mcolumns\u001b[39m.\u001b[39mnlevels \u001b[39m>\u001b[39m \u001b[39m1\u001b[39m:\n\u001b[1;32m   <a href='file:///home/renan/.local/lib/python3.8/site-packages/pandas/core/frame.py?line=3503'>3504</a>\u001b[0m     \u001b[39mreturn\u001b[39;00m \u001b[39mself\u001b[39m\u001b[39m.\u001b[39m_getitem_multilevel(key)\n\u001b[0;32m-> <a href='file:///home/renan/.local/lib/python3.8/site-packages/pandas/core/frame.py?line=3504'>3505</a>\u001b[0m indexer \u001b[39m=\u001b[39m \u001b[39mself\u001b[39;49m\u001b[39m.\u001b[39;49mcolumns\u001b[39m.\u001b[39;49mget_loc(key)\n\u001b[1;32m   <a href='file:///home/renan/.local/lib/python3.8/site-packages/pandas/core/frame.py?line=3505'>3506</a>\u001b[0m \u001b[39mif\u001b[39;00m is_integer(indexer):\n\u001b[1;32m   <a href='file:///home/renan/.local/lib/python3.8/site-packages/pandas/core/frame.py?line=3506'>3507</a>\u001b[0m     indexer \u001b[39m=\u001b[39m [indexer]\n",
                  "File \u001b[0;32m~/.local/lib/python3.8/site-packages/pandas/core/indexes/base.py:3623\u001b[0m, in \u001b[0;36mIndex.get_loc\u001b[0;34m(self, key, method, tolerance)\u001b[0m\n\u001b[1;32m   <a href='file:///home/renan/.local/lib/python3.8/site-packages/pandas/core/indexes/base.py?line=3620'>3621</a>\u001b[0m     \u001b[39mreturn\u001b[39;00m \u001b[39mself\u001b[39m\u001b[39m.\u001b[39m_engine\u001b[39m.\u001b[39mget_loc(casted_key)\n\u001b[1;32m   <a href='file:///home/renan/.local/lib/python3.8/site-packages/pandas/core/indexes/base.py?line=3621'>3622</a>\u001b[0m \u001b[39mexcept\u001b[39;00m \u001b[39mKeyError\u001b[39;00m \u001b[39mas\u001b[39;00m err:\n\u001b[0;32m-> <a href='file:///home/renan/.local/lib/python3.8/site-packages/pandas/core/indexes/base.py?line=3622'>3623</a>\u001b[0m     \u001b[39mraise\u001b[39;00m \u001b[39mKeyError\u001b[39;00m(key) \u001b[39mfrom\u001b[39;00m \u001b[39merr\u001b[39;00m\n\u001b[1;32m   <a href='file:///home/renan/.local/lib/python3.8/site-packages/pandas/core/indexes/base.py?line=3623'>3624</a>\u001b[0m \u001b[39mexcept\u001b[39;00m \u001b[39mTypeError\u001b[39;00m:\n\u001b[1;32m   <a href='file:///home/renan/.local/lib/python3.8/site-packages/pandas/core/indexes/base.py?line=3624'>3625</a>\u001b[0m     \u001b[39m# If we have a listlike key, _check_indexing_error will raise\u001b[39;00m\n\u001b[1;32m   <a href='file:///home/renan/.local/lib/python3.8/site-packages/pandas/core/indexes/base.py?line=3625'>3626</a>\u001b[0m     \u001b[39m#  InvalidIndexError. Otherwise we fall through and re-raise\u001b[39;00m\n\u001b[1;32m   <a href='file:///home/renan/.local/lib/python3.8/site-packages/pandas/core/indexes/base.py?line=3626'>3627</a>\u001b[0m     \u001b[39m#  the TypeError.\u001b[39;00m\n\u001b[1;32m   <a href='file:///home/renan/.local/lib/python3.8/site-packages/pandas/core/indexes/base.py?line=3627'>3628</a>\u001b[0m     \u001b[39mself\u001b[39m\u001b[39m.\u001b[39m_check_indexing_error(key)\n",
                  "\u001b[0;31mKeyError\u001b[0m: 'Qtde_Teo'"
               ]
            }
         ],
         "source": [
            "df3['Qtde_Teo'] = df3['Qtde_Teo'].map(lambda t: t.replace(\".\", \"\"))\n",
            "df3['Qtde_Teo'] = df3['Qtde_Teo'].map(lambda qtd: float(qtd))\n"
         ]
      },
      {
         "cell_type": "code",
         "execution_count": null,
         "metadata": {},
         "outputs": [],
         "source": [
            "df3['Part_%'] = df3['Part_%'].map(lambda t: t.replace(\",\", \".\"))\n",
            "df3['Part_%'] = df3['Part_%'].map(lambda t: float(t))"
         ]
      },
      {
         "cell_type": "code",
         "execution_count": null,
         "metadata": {},
         "outputs": [],
         "source": [
            "df3"
         ]
      },
      {
         "cell_type": "code",
         "execution_count": null,
         "metadata": {},
         "outputs": [],
         "source": [
            "df3 = df3.to_csv(\"dados_dab3_mai_a_Ago.csv\")"
         ]
      },
      {
         "cell_type": "code",
         "execution_count": null,
         "metadata": {},
         "outputs": [],
         "source": []
      }
   ],
   "metadata": {
      "interpreter": {
         "hash": "93d181ae0537741559a56fe3f4ecb1ffaf114b18a27fd1319b63730f0271173f"
      },
      "kernelspec": {
         "display_name": "Python 3.9.0 64-bit (system)",
         "language": "python",
         "name": "python3"
      },
      "language_info": {
         "codemirror_mode": {
            "name": "ipython",
            "version": 3
         },
         "file_extension": ".py",
         "mimetype": "text/x-python",
         "name": "python",
         "nbconvert_exporter": "python",
         "pygments_lexer": "ipython3",
         "version": "3.8.10"
      },
      "orig_nbformat": 4
   },
   "nbformat": 4,
   "nbformat_minor": 2
}
