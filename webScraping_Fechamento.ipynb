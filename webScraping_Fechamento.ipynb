{
 "cells": [
  {
   "cell_type": "code",
   "execution_count": 2,
   "metadata": {},
   "outputs": [],
   "source": [
    "import pandas as pd\n",
    "from selenium import webdriver\n",
    "import time as t\n",
    "from bs4 import BeautifulSoup\n",
    "import numpy as np\n",
    "import scrapy as sp\n",
    "import requests"
   ]
  },
  {
   "cell_type": "code",
   "execution_count": 2,
   "metadata": {},
   "outputs": [],
   "source": [
    "url = 'http://br.advfn.com/bolsa-de-valores/bovespa/vale-on-VALE3/historico/mais-dados-histprocos'\n",
    "url2 = 'http://br.advfn.com/bolsa-de-valores/bovespa/vale-on-VALE3/historico/mais-dados-historicos?current=13&Date1=28/01/19&Date2=28/04/22'\n",
    "url3 = 'http://br.advfn.com/bolsa-de-valores/bovespa/vale-on-VALE3/historico/mais-dados-historicos?current=0&Date1=28/01/19&Date2=28/04/22'"
   ]
  },
  {
   "cell_type": "code",
   "execution_count": null,
   "metadata": {},
   "outputs": [],
   "source": [
    "browser = webdriver.Chrome()\n",
    "browser.get(url2)\n",
    "t.sleep(3)\n",
    "html = browser.page_source\n",
    "browser.close()\n",
    "bs = BeautifulSoup(html, 'html.parser')\n",
    "linhas = bs.find_all('tr', attrs={'class':'result'})\n",
    "print(linhas)"
   ]
  },
  {
   "cell_type": "code",
   "execution_count": null,
   "metadata": {},
   "outputs": [],
   "source": [
    "i = 0 \n",
    "data = []\n",
    "while i < len(linhas):\n",
    "    data.append(linhas[i])\n",
    "    i+=1"
   ]
  },
  {
   "cell_type": "code",
   "execution_count": null,
   "metadata": {},
   "outputs": [],
   "source": [
    "j = 0\n",
    "datanew = []\n",
    "while j < len(data):\n",
    "    datanew.append(data[j].split('\\n'))\n",
    "    j+=1\n",
    "    "
   ]
  },
  {
   "cell_type": "code",
   "execution_count": null,
   "metadata": {},
   "outputs": [],
   "source": [
    "# titulo de curiosidade\n",
    "for k in range(len(datanew)-1):\n",
    "    for i in range(len(datanew[k])-1):\n",
    "        print(datanew[k][i])\n",
    "        "
   ]
  },
  {
   "cell_type": "code",
   "execution_count": null,
   "metadata": {},
   "outputs": [],
   "source": [
    "len(datanew[0])"
   ]
  },
  {
   "cell_type": "code",
   "execution_count": null,
   "metadata": {},
   "outputs": [],
   "source": [
    "print(data[1].split('\\n'))"
   ]
  },
  {
   "cell_type": "code",
   "execution_count": null,
   "metadata": {},
   "outputs": [],
   "source": [
    "datanew[3][1]\n",
    "datanew[2][1]"
   ]
  },
  {
   "cell_type": "code",
   "execution_count": null,
   "metadata": {},
   "outputs": [],
   "source": [
    "l = 1\n",
    "dias, fechamento, variacao, variacao_p, abertura, maxima, minima, volume = [], [], [],[], [], [], [], []"
   ]
  },
  {
   "cell_type": "code",
   "execution_count": null,
   "metadata": {},
   "outputs": [],
   "source": [
    "while l < len(datanew):\n",
    "    dias.append(datanew[l][1])\n",
    "    fechamento.append(datanew[l][1])\n",
    "    variacao.append(datanew[l][1])\n",
    "    variacao_p.append(datanew[l][1])\n",
    "    abertura.append(datanew[l][1])\n",
    "    maxima.append(datanew[l][1])\n",
    "    minima.append(datanew[l][1])\n",
    "    volume.append(datanew[l][1])\n",
    "    l +=1"
   ]
  },
  {
   "cell_type": "code",
   "execution_count": null,
   "metadata": {},
   "outputs": [],
   "source": [
    "df = pd.DataFrame(\n",
    "    {\n",
    "        'Data': dias,\n",
    "        'Fechamento': fechamento,\n",
    "        'Variacao': variacao,\n",
    "        'Variacao_%': variacao_p,\n",
    "        'Abertura': abertura,\n",
    "        'Maxima': maxima,\n",
    "        'Minima': minima,\n",
    "        'Volume': volume\n",
    "    }\n",
    ")"
   ]
  },
  {
   "cell_type": "code",
   "execution_count": null,
   "metadata": {},
   "outputs": [],
   "source": [
    "df"
   ]
  },
  {
   "cell_type": "code",
   "execution_count": 3,
   "metadata": {},
   "outputs": [
    {
     "data": {
      "text/html": [
       "<div>\n",
       "<style scoped>\n",
       "    .dataframe tbody tr th:only-of-type {\n",
       "        vertical-align: middle;\n",
       "    }\n",
       "\n",
       "    .dataframe tbody tr th {\n",
       "        vertical-align: top;\n",
       "    }\n",
       "\n",
       "    .dataframe thead th {\n",
       "        text-align: right;\n",
       "    }\n",
       "</style>\n",
       "<table border=\"1\" class=\"dataframe\">\n",
       "  <thead>\n",
       "    <tr style=\"text-align: right;\">\n",
       "      <th></th>\n",
       "      <th>Setor</th>\n",
       "      <th>Acao</th>\n",
       "      <th>Empresa</th>\n",
       "      <th>Qntd_teorica</th>\n",
       "      <th>Part_%</th>\n",
       "      <th>SubSetor</th>\n",
       "      <th>Part_%_acum</th>\n",
       "    </tr>\n",
       "  </thead>\n",
       "  <tbody>\n",
       "    <tr>\n",
       "      <th>0</th>\n",
       "      <td>Mats Básicos</td>\n",
       "      <td>VALE3</td>\n",
       "      <td>VALE</td>\n",
       "      <td>3843570705</td>\n",
       "      <td>16.292</td>\n",
       "      <td>Mineração</td>\n",
       "      <td>16.292</td>\n",
       "    </tr>\n",
       "    <tr>\n",
       "      <th>1</th>\n",
       "      <td>Petróleo, Gás e Biocombustívei</td>\n",
       "      <td>PETR4</td>\n",
       "      <td>PETROBRAS</td>\n",
       "      <td>4566442248</td>\n",
       "      <td>6.572</td>\n",
       "      <td>Petróleo, Gás e Biocombustíveis</td>\n",
       "      <td>22.864</td>\n",
       "    </tr>\n",
       "    <tr>\n",
       "      <th>2</th>\n",
       "      <td>Financ e Outros</td>\n",
       "      <td>ITUB4</td>\n",
       "      <td>ITAUUNIBANCO</td>\n",
       "      <td>4780002924</td>\n",
       "      <td>5.793</td>\n",
       "      <td>Interms Financs</td>\n",
       "      <td>28.657</td>\n",
       "    </tr>\n",
       "    <tr>\n",
       "      <th>3</th>\n",
       "      <td>Financ e Outros</td>\n",
       "      <td>BBDC4</td>\n",
       "      <td>BRADESCO</td>\n",
       "      <td>4691427537</td>\n",
       "      <td>4.627</td>\n",
       "      <td>Interms Financs</td>\n",
       "      <td>33.284</td>\n",
       "    </tr>\n",
       "    <tr>\n",
       "      <th>4</th>\n",
       "      <td>Petróleo, Gás e Biocombustívei</td>\n",
       "      <td>PETR3</td>\n",
       "      <td>PETROBRAS</td>\n",
       "      <td>2703343822</td>\n",
       "      <td>4.324</td>\n",
       "      <td>Petróleo, Gás e Biocombustíveis</td>\n",
       "      <td>37.608</td>\n",
       "    </tr>\n",
       "    <tr>\n",
       "      <th>...</th>\n",
       "      <td>...</td>\n",
       "      <td>...</td>\n",
       "      <td>...</td>\n",
       "      <td>...</td>\n",
       "      <td>...</td>\n",
       "      <td>...</td>\n",
       "      <td>...</td>\n",
       "    </tr>\n",
       "    <tr>\n",
       "      <th>86</th>\n",
       "      <td>Bens Indls</td>\n",
       "      <td>ECOR3</td>\n",
       "      <td>ECORODOVIAS</td>\n",
       "      <td>339237914</td>\n",
       "      <td>0.118</td>\n",
       "      <td>Transporte</td>\n",
       "      <td>99.753</td>\n",
       "    </tr>\n",
       "    <tr>\n",
       "      <th>87</th>\n",
       "      <td>Consumo Cíclico</td>\n",
       "      <td>JHSF3</td>\n",
       "      <td>JHSF PART</td>\n",
       "      <td>305915142</td>\n",
       "      <td>0.087</td>\n",
       "      <td>Constr Civil</td>\n",
       "      <td>99.840</td>\n",
       "    </tr>\n",
       "    <tr>\n",
       "      <th>88</th>\n",
       "      <td>Consumo Cíclico</td>\n",
       "      <td>EZTC3</td>\n",
       "      <td>EZTEC</td>\n",
       "      <td>101618236</td>\n",
       "      <td>0.078</td>\n",
       "      <td>Constr Civil</td>\n",
       "      <td>99.918</td>\n",
       "    </tr>\n",
       "    <tr>\n",
       "      <th>89</th>\n",
       "      <td>Tec.Informação</td>\n",
       "      <td>CASH3</td>\n",
       "      <td>MELIUZ</td>\n",
       "      <td>548153725</td>\n",
       "      <td>0.052</td>\n",
       "      <td>Programas Servs</td>\n",
       "      <td>99.970</td>\n",
       "    </tr>\n",
       "    <tr>\n",
       "      <th>90</th>\n",
       "      <td>Comput e Equip</td>\n",
       "      <td>POSI3</td>\n",
       "      <td>POSITIVO TEC</td>\n",
       "      <td>78053723</td>\n",
       "      <td>0.030</td>\n",
       "      <td>Comput e Equips</td>\n",
       "      <td>100.000</td>\n",
       "    </tr>\n",
       "  </tbody>\n",
       "</table>\n",
       "<p>91 rows × 7 columns</p>\n",
       "</div>"
      ],
      "text/plain": [
       "                             Setor   Acao       Empresa  Qntd_teorica  Part_%  \\\n",
       "0                    Mats Básicos   VALE3          VALE    3843570705  16.292   \n",
       "1   Petróleo, Gás e Biocombustívei  PETR4     PETROBRAS    4566442248   6.572   \n",
       "2                 Financ e Outros   ITUB4  ITAUUNIBANCO    4780002924   5.793   \n",
       "3                 Financ e Outros   BBDC4      BRADESCO    4691427537   4.627   \n",
       "4   Petróleo, Gás e Biocombustívei  PETR3     PETROBRAS    2703343822   4.324   \n",
       "..                             ...    ...           ...           ...     ...   \n",
       "86                      Bens Indls  ECOR3   ECORODOVIAS     339237914   0.118   \n",
       "87                 Consumo Cíclico  JHSF3     JHSF PART     305915142   0.087   \n",
       "88                 Consumo Cíclico  EZTC3         EZTEC     101618236   0.078   \n",
       "89                  Tec.Informação  CASH3        MELIUZ     548153725   0.052   \n",
       "90                  Comput e Equip  POSI3  POSITIVO TEC      78053723   0.030   \n",
       "\n",
       "                           SubSetor  Part_%_acum  \n",
       "0                         Mineração       16.292  \n",
       "1   Petróleo, Gás e Biocombustíveis       22.864  \n",
       "2                   Interms Financs       28.657  \n",
       "3                   Interms Financs       33.284  \n",
       "4   Petróleo, Gás e Biocombustíveis       37.608  \n",
       "..                              ...          ...  \n",
       "86                       Transporte       99.753  \n",
       "87                     Constr Civil       99.840  \n",
       "88                     Constr Civil       99.918  \n",
       "89                  Programas Servs       99.970  \n",
       "90                  Comput e Equips      100.000  \n",
       "\n",
       "[91 rows x 7 columns]"
      ]
     },
     "execution_count": 3,
     "metadata": {},
     "output_type": "execute_result"
    }
   ],
   "source": [
    "df = pd.read_csv('dados_dab3_Car_do_dia.csv', index_col=0)\n",
    "df"
   ]
  },
  {
   "cell_type": "code",
   "execution_count": 4,
   "metadata": {},
   "outputs": [
    {
     "data": {
      "text/html": [
       "<div>\n",
       "<style scoped>\n",
       "    .dataframe tbody tr th:only-of-type {\n",
       "        vertical-align: middle;\n",
       "    }\n",
       "\n",
       "    .dataframe tbody tr th {\n",
       "        vertical-align: top;\n",
       "    }\n",
       "\n",
       "    .dataframe thead th {\n",
       "        text-align: right;\n",
       "    }\n",
       "</style>\n",
       "<table border=\"1\" class=\"dataframe\">\n",
       "  <thead>\n",
       "    <tr style=\"text-align: right;\">\n",
       "      <th></th>\n",
       "      <th>Acao</th>\n",
       "      <th>Empresa</th>\n",
       "    </tr>\n",
       "  </thead>\n",
       "  <tbody>\n",
       "    <tr>\n",
       "      <th>0</th>\n",
       "      <td>VALE3</td>\n",
       "      <td>VALE</td>\n",
       "    </tr>\n",
       "    <tr>\n",
       "      <th>1</th>\n",
       "      <td>PETR4</td>\n",
       "      <td>PETROBRAS</td>\n",
       "    </tr>\n",
       "    <tr>\n",
       "      <th>2</th>\n",
       "      <td>ITUB4</td>\n",
       "      <td>ITAUUNIBANCO</td>\n",
       "    </tr>\n",
       "    <tr>\n",
       "      <th>3</th>\n",
       "      <td>BBDC4</td>\n",
       "      <td>BRADESCO</td>\n",
       "    </tr>\n",
       "    <tr>\n",
       "      <th>4</th>\n",
       "      <td>PETR3</td>\n",
       "      <td>PETROBRAS</td>\n",
       "    </tr>\n",
       "    <tr>\n",
       "      <th>...</th>\n",
       "      <td>...</td>\n",
       "      <td>...</td>\n",
       "    </tr>\n",
       "    <tr>\n",
       "      <th>86</th>\n",
       "      <td>ECOR3</td>\n",
       "      <td>ECORODOVIAS</td>\n",
       "    </tr>\n",
       "    <tr>\n",
       "      <th>87</th>\n",
       "      <td>JHSF3</td>\n",
       "      <td>JHSF PART</td>\n",
       "    </tr>\n",
       "    <tr>\n",
       "      <th>88</th>\n",
       "      <td>EZTC3</td>\n",
       "      <td>EZTEC</td>\n",
       "    </tr>\n",
       "    <tr>\n",
       "      <th>89</th>\n",
       "      <td>CASH3</td>\n",
       "      <td>MELIUZ</td>\n",
       "    </tr>\n",
       "    <tr>\n",
       "      <th>90</th>\n",
       "      <td>POSI3</td>\n",
       "      <td>POSITIVO TEC</td>\n",
       "    </tr>\n",
       "  </tbody>\n",
       "</table>\n",
       "<p>91 rows × 2 columns</p>\n",
       "</div>"
      ],
      "text/plain": [
       "     Acao       Empresa\n",
       "0   VALE3          VALE\n",
       "1   PETR4     PETROBRAS\n",
       "2   ITUB4  ITAUUNIBANCO\n",
       "3   BBDC4      BRADESCO\n",
       "4   PETR3     PETROBRAS\n",
       "..    ...           ...\n",
       "86  ECOR3   ECORODOVIAS\n",
       "87  JHSF3     JHSF PART\n",
       "88  EZTC3         EZTEC\n",
       "89  CASH3        MELIUZ\n",
       "90  POSI3  POSITIVO TEC\n",
       "\n",
       "[91 rows x 2 columns]"
      ]
     },
     "execution_count": 4,
     "metadata": {},
     "output_type": "execute_result"
    }
   ],
   "source": [
    "df = df[['Acao', 'Empresa']]\n",
    "df"
   ]
  },
  {
   "cell_type": "code",
   "execution_count": 5,
   "metadata": {},
   "outputs": [],
   "source": [
    "df = df.to_csv('acoes_e_empresa.csv')"
   ]
  },
  {
   "cell_type": "code",
   "execution_count": 7,
   "metadata": {},
   "outputs": [],
   "source": [
    "acao = 'ITUB4'"
   ]
  },
  {
   "cell_type": "code",
   "execution_count": 8,
   "metadata": {},
   "outputs": [
    {
     "data": {
      "text/plain": [
       "'4'"
      ]
     },
     "execution_count": 8,
     "metadata": {},
     "output_type": "execute_result"
    }
   ],
   "source": [
    "acao[-1]"
   ]
  },
  {
   "cell_type": "code",
   "execution_count": 10,
   "metadata": {},
   "outputs": [
    {
     "name": "stdout",
     "output_type": "stream",
     "text": [
      "21\n",
      "20\n",
      "19\n",
      "18\n",
      "17\n",
      "16\n",
      "15\n",
      "14\n",
      "13\n",
      "12\n",
      "11\n",
      "10\n",
      "9\n",
      "8\n",
      "7\n",
      "6\n",
      "5\n",
      "4\n",
      "3\n",
      "2\n",
      "1\n",
      "0\n"
     ]
    }
   ],
   "source": [
    "for i in range(21,-1,-1):\n",
    "    print(i)"
   ]
  },
  {
   "cell_type": "code",
   "execution_count": 14,
   "metadata": {},
   "outputs": [
    {
     "name": "stdout",
     "output_type": "stream",
     "text": [
      "vale\n"
     ]
    }
   ],
   "source": [
    "empresa = 'VALE                  '\n",
    "print(empresa.strip().lower().replace(' ', '-'))\n"
   ]
  },
  {
   "cell_type": "code",
   "execution_count": null,
   "metadata": {},
   "outputs": [],
   "source": []
  }
 ],
 "metadata": {
  "interpreter": {
   "hash": "31f2aee4e71d21fbe5cf8b01ff0e069b9275f58929596ceb00d14d90e3e16cd6"
  },
  "kernelspec": {
   "display_name": "Python 3.8.10 64-bit",
   "language": "python",
   "name": "python3"
  },
  "language_info": {
   "codemirror_mode": {
    "name": "ipython",
    "version": 3
   },
   "file_extension": ".py",
   "mimetype": "text/x-python",
   "name": "python",
   "nbconvert_exporter": "python",
   "pygments_lexer": "ipython3",
   "version": "3.8.10"
  },
  "orig_nbformat": 4
 },
 "nbformat": 4,
 "nbformat_minor": 2
}
