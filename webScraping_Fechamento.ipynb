{
 "cells": [
  {
   "cell_type": "code",
   "execution_count": 1,
   "metadata": {},
   "outputs": [],
   "source": [
    "import pandas as pd\n",
    "from selenium import webdriver\n",
    "import time as t\n",
    "from bs4 import BeautifulSoup\n",
    "import numpy"
   ]
  },
  {
   "cell_type": "code",
   "execution_count": null,
   "metadata": {},
   "outputs": [],
   "source": [
    "url = 'http://br.advfn.com/bolsa-de-valores/bovespa/vale-on-VALE3/historico/mais-dados-historicos'"
   ]
  },
  {
   "cell_type": "code",
   "execution_count": null,
   "metadata": {},
   "outputs": [],
   "source": [
    "browser = webdriver.Chrome()\n",
    "browser.get(url)\n",
    "html = browser.page_source\n",
    "browser.close()\n",
    "bs = BeautifulSoup(html, 'html.parser')\n",
    "linhas = bs.find_all('tr', attrs={'class':'result'})\n",
    "print(linhas)"
   ]
  },
  {
   "cell_type": "code",
   "execution_count": null,
   "metadata": {},
   "outputs": [],
   "source": [
    "i = 0\n",
    "data = []\n",
    "while i< len(linhas):\n",
    "    data.append(linhas[i].text)\n",
    "    i+=1"
   ]
  },
  {
   "cell_type": "code",
   "execution_count": null,
   "metadata": {},
   "outputs": [],
   "source": [
    "j=0\n",
    "datanew = []\n",
    "while j < len(data):\n",
    "    datanew.append(data[j].split('\\n'))\n",
    "    j+=1"
   ]
  },
  {
   "cell_type": "code",
   "execution_count": null,
   "metadata": {},
   "outputs": [],
   "source": [
    "i = 1 \n",
    "for k in range(len(datanew)-1):\n",
    "    for i in range(len(datanew)-1):\n",
    "        print(datanew[k][i])"
   ]
  },
  {
   "cell_type": "code",
   "execution_count": null,
   "metadata": {},
   "outputs": [],
   "source": [
    "len(datanew[0])"
   ]
  },
  {
   "cell_type": "code",
   "execution_count": null,
   "metadata": {},
   "outputs": [],
   "source": [
    "datanew[3][1]"
   ]
  },
  {
   "cell_type": "code",
   "execution_count": null,
   "metadata": {},
   "outputs": [],
   "source": [
    "l = 1\n",
    "dias = []\n",
    "fechamento = []\n",
    "variacao = []\n",
    "variacao_p = []\n",
    "abertura = []\n",
    "maxima = []\n",
    "minima = []\n",
    "volume = []"
   ]
  },
  {
   "cell_type": "code",
   "execution_count": null,
   "metadata": {},
   "outputs": [],
   "source": [
    "while l < len(datanew):\n",
    "    dias.append(datanew[l][1])\n",
    "    fechamento.append(datanew[l][2])\n",
    "    variacao.append(datanew[l][3])\n",
    "    variacao_p.append(datanew[l][4])\n",
    "    abertura.append(datanew[l][5])\n",
    "    maxima.append(datanew[l][6])\n",
    "    minima.append(datanew[l][7])\n",
    "    volume.append(datanew[l][8])"
   ]
  },
  {
   "cell_type": "code",
   "execution_count": null,
   "metadata": {},
   "outputs": [],
   "source": [
    "df = pd.DataFrame({\n",
    "    'Data': dias,\n",
    "    'Fechamento': fechamento,\n",
    "    'Variacao': variacao,\n",
    "    'Variacao_%':variacao_p,\n",
    "    'Abertura': abertura,\n",
    "    'Maxima': maxima,\n",
    "    'Minima': minima,\n",
    "    'Volume': volume \n",
    "})"
   ]
  },
  {
   "cell_type": "code",
   "execution_count": null,
   "metadata": {},
   "outputs": [],
   "source": [
    "df['Fechamento'] = df['Fechamento'].map(lambda t: t.replace(',', '.'))\n",
    "df['Fechamento'] = df['Fechamento'].map(lambda t: float(t))\n",
    "df['Variacao'] = df['Variacao'].map(lambda t: t.replace(',', '.'))\n",
    "df['Variacao'] = df['Variacao'].map(lambda t: float(t)\n",
    "df['Variacao_%'] = df['Variacao_%'].map(lambda t: t.replace(',', '.'))\n",
    "df['Variacao_%'] = df['Variacao_%'].map(lambda t: t.replace('%', ''))\n",
    "df['Variacao_%'] = df['Variacao_%'].map(lambda t: float(t))\n",
    "df['Abertura'] = df['Abertura'].map(lambda t: t.replace(',', '.'))\n",
    "df['Abertura'] = df['Abertura'].map(lambda t: float(t)\n",
    "df['Maxima'] = df['Maxima'].map(lambda t: t.replace(',', '.'))\n",
    "df['Maxima'] = df['Maxima'].map(lambda t: float(t))\n",
    "df['Minima'] = df['Minima'].map(lambda t: t.replace(',', '.'))\n",
    "df['Minima'] = df['Minima'].map(lambda t: float(t)"
   ]
  },
  {
   "cell_type": "code",
   "execution_count": null,
   "metadata": {},
   "outputs": [],
   "source": [
    "df = df.to_csv('Dados_testes_da_VALE3.csv')"
   ]
  },
  {
   "cell_type": "code",
   "execution_count": null,
   "metadata": {},
   "outputs": [],
   "source": [
    "\n",
    "def retorna_int_href(acao, empresa, tipo):\n",
    "    from selenium import webdriver\n",
    "    import time\n",
    "    from bs4 import BeautifulSoup\n",
    "    \n",
    "    url = f'https://br.advfn.com/bolsa-de-valores/bovespa/{empresa}-{tipo}-{acao}/historico/mais-dados-historicos?current=0&Date1=03/02/17&Date2=04/05/22'\n",
    "    browser = webdriver.Chrome()\n",
    "    browser.get(url)\n",
    "    time.sleep(3)\n",
    "    html = browser.page_source\n",
    "    browser.close()\n",
    "    bs = BeautifulSoup(html, 'html.parser')\n",
    "    linhas = bs.find_all('a')[40]['href']\n",
    "    for i in range(len(linhas)):\n",
    "        if linhas[i] == '=':\n",
    "            comeco = i+1\n",
    "        elif linhas[i] == '&':\n",
    "            final = i\n",
    "            break\n",
    "\n",
    "    return int(link[comeco:final])"
   ]
  },
  {
   "cell_type": "code",
   "execution_count": null,
   "metadata": {},
   "outputs": [],
   "source": [
    "def import_test(acao, empresa, tipo):\n",
    "    Days, Close, Variation, Variation_p, Open, Max, Min = [],[],[],[],[],[],[]\n",
    "    empresa = empresa.strip().lower().replace(' ', '-')\n",
    "    num = retorna_int_href(acao, empresa, tipo)\n",
    "\n",
    "    for i in range(num, -1, -1):\n",
    "        url2 = f'http://br.advfn.com/bolsa-de-valores/bovespa/{empresa}-{tipo}-{acao}/historico/mais-dados-historicos?current={i}&Date1=28/01/17&Date2=28/04/22'\n",
    "        browser = webdriver.Chrome()\n",
    "        browser.get(url2)\n",
    "        t.sleep(3)\n",
    "        html = browser.page_source\n",
    "        browser.close()\n",
    "        bs = BeautifulSoup(html, 'html.parser')\n",
    "        linhas = bs.find_all('tr', attrs={'class':'result'})\n",
    "        data = []\n",
    "        j=0\n",
    "        while j < len(linhas):\n",
    "            data.append(linhas[j].text)\n",
    "            j+=1\n",
    "        k=0\n",
    "        datanew = []\n",
    "        while k < len(data):\n",
    "            datanew.append(data[k].split('\\n'))\n",
    "            k+=1\n",
    "        l=1\n",
    "        while l <len(datanew):\n",
    "            Days.append(datanew[l][1])\n",
    "            Close.append(datanew[l][2])\n",
    "            Variation.append(datanew[l][3])\n",
    "            Variation_p.append(datanew[l][4])\n",
    "            Open.append(datanew[l][5])\n",
    "            Max.append(datanew[l][6])\n",
    "            Min.append(datanew[l][7])\n",
    "            l +=1\n",
    "        \n",
    "    df = pd.DataFrame({\n",
    "        'Data': Days,\n",
    "        'Fechamento': Close,\n",
    "        'Variacao':Variation.\n",
    "        'Variacao_%': Variation_p,\n",
    "        'Abertura': Open,\n",
    "        'Maxima': Max,\n",
    "        'Minima': Min\n",
    "    })\n",
    "    df['Fechamento'] = df['Fechamento'].map(lambda t:t.replace(',', '.'))\n",
    "    df['Fechamento'] = df['Fechamento'].map(lambda t: float(t))\n",
    "    df['Variacao'] = df['Variacao'].map(lambda t:t.replace(',', '.'))\n",
    "    df['Variacao'] = df['Variacao'].map(lambda t: float(t))\n",
    "    df['Variacao_%'] = df['Variacao_%'].map(lambda t:t.replace(',', '.'))\n",
    "    df['Variacao_%'] = df['Variacao_%'].map(lambda t: t.replace('%', ''))\n",
    "    df['Variacao_%'] = df['Variacao_%'].map(lambda t: float(t))\n",
    "    df['Abertura'] = df['Abertura'].map(lambda t:t.replace(',', '.'))\n",
    "    df['Abertura'] = df['Abertura'].map(lambda t: float(t))\n",
    "    df['Maxima'] = df['Maxima'].map(lambda t:t.replace(',', '.'))\n",
    "    df['Maxima'] = df['Maxima'].map(lambda t: float(t))\n",
    "    df['Minima'] = df['Minima'].map(lambda t:t.replace(',', '.'))\n",
    "    df['Minima'] = df['Minima'].map(lambda t: float(t))\n",
    "    return df"
   ]
  },
  {
   "cell_type": "code",
   "execution_count": null,
   "metadata": {},
   "outputs": [],
   "source": [
    "acao = 'AZUL4'\n",
    "empresa = 'azul'\n",
    "tipo = 'pn'"
   ]
  },
  {
   "cell_type": "code",
   "execution_count": null,
   "metadata": {},
   "outputs": [],
   "source": [
    "df2 = import_test(acao, empresa, tipo)"
   ]
  },
  {
   "cell_type": "code",
   "execution_count": null,
   "metadata": {},
   "outputs": [],
   "source": [
    "df2 = df.to_csv(f'{acao}_{empresa}')"
   ]
  },
  {
   "cell_type": "code",
   "execution_count": null,
   "metadata": {},
   "outputs": [],
   "source": [
    "for i,v in enumerate(a):\n",
    "    print(v,i)"
   ]
  },
  {
   "cell_type": "code",
   "execution_count": null,
   "metadata": {},
   "outputs": [],
   "source": []
  }
 ],
 "metadata": {
  "interpreter": {
   "hash": "31f2aee4e71d21fbe5cf8b01ff0e069b9275f58929596ceb00d14d90e3e16cd6"
  },
  "kernelspec": {
   "display_name": "Python 3.8.10 64-bit",
   "language": "python",
   "name": "python3"
  },
  "language_info": {
   "codemirror_mode": {
    "name": "ipython",
    "version": 3
   },
   "file_extension": ".py",
   "mimetype": "text/x-python",
   "name": "python",
   "nbconvert_exporter": "python",
   "pygments_lexer": "ipython3",
   "version": "3.8.10"
  },
  "orig_nbformat": 4
 },
 "nbformat": 4,
 "nbformat_minor": 2
}
