{
 "cells": [
  {
   "cell_type": "code",
   "execution_count": 1,
   "metadata": {},
   "outputs": [],
   "source": [
    "import pandas as pd\n",
    "from selenium import webdriver\n",
    "import time as t\n",
    "from bs4 import BeautifulSoup\n",
    "import numpy as np\n",
    "import scrapy as sp\n",
    "import requests"
   ]
  },
  {
   "cell_type": "code",
   "execution_count": 2,
   "metadata": {},
   "outputs": [],
   "source": [
    "url = 'http://br.advfn.com/bolsa-de-valores/bovespa/vale-on-VALE3/historico/mais-dados-histprocos'\n",
    "url2 = 'http://br.advfn.com/bolsa-de-valores/bovespa/vale-on-VALE3/historico/mais-dados-historicos?current=13&Date1=28/01/19&Date2=28/04/22'\n",
    "url3 = 'http://br.advfn.com/bolsa-de-valores/bovespa/vale-on-VALE3/historico/mais-dados-historicos?current=0&Date1=28/01/19&Date2=28/04/22'"
   ]
  },
  {
   "cell_type": "code",
   "execution_count": null,
   "metadata": {},
   "outputs": [],
   "source": [
    "browser = webdriver.Chrome()\n",
    "browser.get(url2)\n",
    "t.sleep(3)\n",
    "html = browser.page_source\n",
    "browser.close()\n",
    "bs = BeautifulSoup(html, 'html.parser')\n",
    "linhas = bs.find_all('table')\n",
    "print(linhas)"
   ]
  }
 ],
 "metadata": {
  "interpreter": {
   "hash": "31f2aee4e71d21fbe5cf8b01ff0e069b9275f58929596ceb00d14d90e3e16cd6"
  },
  "kernelspec": {
   "display_name": "Python 3.8.10 64-bit",
   "language": "python",
   "name": "python3"
  },
  "language_info": {
   "codemirror_mode": {
    "name": "ipython",
    "version": 3
   },
   "file_extension": ".py",
   "mimetype": "text/x-python",
   "name": "python",
   "nbconvert_exporter": "python",
   "pygments_lexer": "ipython3",
   "version": "3.8.10"
  },
  "orig_nbformat": 4
 },
 "nbformat": 4,
 "nbformat_minor": 2
}
