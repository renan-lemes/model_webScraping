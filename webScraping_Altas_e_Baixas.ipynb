{
 "cells": [
  {
   "cell_type": "code",
   "execution_count": 1,
   "metadata": {},
   "outputs": [],
   "source": [
    "import pandas as pd\n",
    "from selenium import webdriver\n",
    "import time as t\n",
    "from bs4 import BeautifulSoup\n",
    "import numpy as np "
   ]
  },
  {
   "cell_type": "code",
   "execution_count": 4,
   "metadata": {},
   "outputs": [],
   "source": [
    "def import_altas(url='https://statusinvest.com.br/acoes/variacao/ibovespa'):\n",
    "    browser = webdriver.Chrome()\n",
    "    browser.get(url)\n",
    "    t.sleep(3)\n",
    "    browser.find_element_by_id('select-options-b3ffbfee-935e-ef69-632d-f5c5589883482')\n",
    "    t.sleep(3)\n",
    "    html = browser.page_source\n",
    "    browser.close()\n",
    "    bs = BeautifulSoup(html, 'html.parser')\n",
    "    linhas = bs.find_all('td')\n",
    "    print(linhas)"
   ]
  }
 ],
 "metadata": {
  "interpreter": {
   "hash": "31f2aee4e71d21fbe5cf8b01ff0e069b9275f58929596ceb00d14d90e3e16cd6"
  },
  "kernelspec": {
   "display_name": "Python 3.8.10 64-bit",
   "language": "python",
   "name": "python3"
  },
  "language_info": {
   "codemirror_mode": {
    "name": "ipython",
    "version": 3
   },
   "file_extension": ".py",
   "mimetype": "text/x-python",
   "name": "python",
   "nbconvert_exporter": "python",
   "pygments_lexer": "ipython3",
   "version": "3.8.10"
  },
  "orig_nbformat": 4
 },
 "nbformat": 4,
 "nbformat_minor": 2
}
